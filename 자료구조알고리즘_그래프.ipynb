{
  "nbformat": 4,
  "nbformat_minor": 0,
  "metadata": {
    "colab": {
      "provenance": [],
      "authorship_tag": "ABX9TyNm5/gi8/BJpCP+CqiowBF0",
      "include_colab_link": true
    },
    "kernelspec": {
      "name": "python3",
      "display_name": "Python 3"
    },
    "language_info": {
      "name": "python"
    },
    "gpuClass": "standard"
  },
  "cells": [
    {
      "cell_type": "markdown",
      "metadata": {
        "id": "view-in-github",
        "colab_type": "text"
      },
      "source": [
        "<a href=\"https://colab.research.google.com/github/DHKing7/Algolithm_study/blob/main/%EC%9E%90%EB%A3%8C%EA%B5%AC%EC%A1%B0%EC%95%8C%EA%B3%A0%EB%A6%AC%EC%A6%98_%EA%B7%B8%EB%9E%98%ED%94%84.ipynb\" target=\"_parent\"><img src=\"https://colab.research.google.com/assets/colab-badge.svg\" alt=\"Open In Colab\"/></a>"
      ]
    },
    {
      "cell_type": "markdown",
      "source": [
        "# DFS"
      ],
      "metadata": {
        "id": "DuSKO1TdeFlW"
      }
    },
    {
      "cell_type": "code",
      "execution_count": null,
      "metadata": {
        "colab": {
          "base_uri": "https://localhost:8080/"
        },
        "id": "D1WH98ekeC3U",
        "outputId": "9d9f2307-eba6-4ff8-f4cc-8af1da29e92b"
      },
      "outputs": [
        {
          "output_type": "stream",
          "name": "stdout",
          "text": [
            "0  2  3  9  8  1  4  5  7  6  "
          ]
        }
      ],
      "source": [
        "adj_list = [[2,1], [3,0], [3,0], [9,8,2,1],[5],[7,6,4],[7,5], [6,5],[3],[3]]\n",
        "N = len(adj_list)\n",
        "visited = [False] * N\n",
        "\n",
        "def dfs(v):\n",
        "  visited[v] = True\n",
        "  print(v, ' ', end='')\n",
        "  for w in adj_list[v]:\n",
        "      if not visited[w]:\n",
        "        dfs(w)\n",
        "\n",
        "for i in range(N):\n",
        "  if not visited[i]:\n",
        "    dfs(i)"
      ]
    },
    {
      "cell_type": "markdown",
      "source": [
        "# BFS"
      ],
      "metadata": {
        "id": "YoDpjByGjrvt"
      }
    },
    {
      "cell_type": "code",
      "source": [
        "from collections import deque\n",
        "\n",
        "adj_list = [[2,1], [3,0], [3,0], [9,8,2,1],[5],[7,6,4],[7,5], [6,5],[3],[3]]\n",
        "N = len(adj_list)\n",
        "visited = [False] * N\n",
        "\n",
        "def bfs(i):\n",
        "  dq = deque()\n",
        "  visited[i] = True\n",
        "  dq.append(i)\n",
        "\n",
        "  while len(dq) > 0:\n",
        "    v =  dq.popleft()\n",
        "    print(v, \" \", end=\"\")\n",
        "    for w in adj_list[v]:\n",
        "      if not visited[w]:\n",
        "        visited[w] = True\n",
        "        dq.append(w)\n",
        "\n",
        "for i in range(N):\n",
        "  if not visited[i]:\n",
        "    bfs(i)"
      ],
      "metadata": {
        "colab": {
          "base_uri": "https://localhost:8080/"
        },
        "id": "He-Mk_2BlqmV",
        "outputId": "97bba03c-6b58-4fc3-ba22-9e15496612bd"
      },
      "execution_count": null,
      "outputs": [
        {
          "output_type": "stream",
          "name": "stdout",
          "text": [
            "0  2  1  3  9  8  4  5  7  6  "
          ]
        }
      ]
    },
    {
      "cell_type": "markdown",
      "source": [
        "# 연결성분 찾기"
      ],
      "metadata": {
        "id": "2fDkYbzd5jcF"
      }
    },
    {
      "cell_type": "code",
      "source": [
        "adj_list = [[3], [6, 10], [7, 10], [0, 6, 8], [13], [14],\n",
        "            [1, 3, 8, 10, 11], [2, 11], [3, 6, 10, 12],\n",
        "            [13], [1, 6, 8], [2, 6, 7], [8], [4, 9], [5]]\n",
        "N = len(adj_list)\n",
        "\n",
        "CCList = []\n",
        "\n",
        "visited = [False] * N\n",
        "\n",
        "def dfs(i):\n",
        "  visited[i] = True\n",
        "  cc.append(i)\n",
        "  for w in adj_list[i]:\n",
        "    if not visited[w]:\n",
        "      dfs(w)\n",
        "\n",
        "for i in range(N):\n",
        "  if not visited[i]:\n",
        "    cc = []\n",
        "    dfs(i)\n",
        "    CCList.append(cc)\n",
        "  \n",
        "print(CCList)"
      ],
      "metadata": {
        "colab": {
          "base_uri": "https://localhost:8080/"
        },
        "id": "bAqeosgw5mOM",
        "outputId": "b523c62a-e6d4-4e54-ee70-c67643af39d0"
      },
      "execution_count": null,
      "outputs": [
        {
          "output_type": "stream",
          "name": "stdout",
          "text": [
            "[[0, 3, 6, 1, 10, 8, 12, 11, 2, 7], [4, 13, 9], [5, 14]]\n"
          ]
        }
      ]
    },
    {
      "cell_type": "markdown",
      "source": [
        "# Topological Sort(위상 정렬)"
      ],
      "metadata": {
        "id": "BuX_T5tJ8syF"
      }
    },
    {
      "cell_type": "code",
      "source": [
        "adj_list = [[1], [3, 4], [0, 1],\n",
        "            [6], [5], [7], [7], [8], []]\n",
        "\n",
        "N = len(adj_list)\n",
        "\n",
        "visited = [False] * N\n",
        "s = []\n",
        "\n",
        "def dfs(v):\n",
        "  visited[v] = True\n",
        "  for w in adj_list[v]:\n",
        "    if not visited[w]:\n",
        "      dfs(w)\n",
        "  s.append(v)\n",
        "\n",
        "for i in range(N):\n",
        "  if not visited[i]:\n",
        "    dfs(i)\n",
        "\n",
        "s.reverse()\n",
        "print(s)"
      ],
      "metadata": {
        "colab": {
          "base_uri": "https://localhost:8080/"
        },
        "id": "X3jenCan8xI8",
        "outputId": "03317d31-1b52-48cf-fcc6-6d74bd99bc6c"
      },
      "execution_count": null,
      "outputs": [
        {
          "output_type": "stream",
          "name": "stdout",
          "text": [
            "[2, 0, 1, 4, 5, 3, 6, 7, 8]\n"
          ]
        }
      ]
    },
    {
      "cell_type": "markdown",
      "source": [
        "# Kruskal 알고리즘"
      ],
      "metadata": {
        "id": "Xuq_QJAa_zoi"
      }
    },
    {
      "cell_type": "code",
      "source": [
        "from collections import deque\n",
        "\n",
        "weights = [(0, 1, 9), (0, 2, 10), (1, 3, 10), (1, 4, 5),\n",
        "           (1, 6, 3), (2, 3, 9), (2, 4, 7), (2, 5, 2),\n",
        "           (3, 5, 4), (3, 6, 8), (4, 6, 1), (5, 6, 6)]\n",
        "weights = sorted(weights, key = lambda x:x[2])\n",
        "dq = deque(weights)\n",
        "mst = []\n",
        "N = 7\n",
        "p = [i for i in range(N)]\n",
        "\n",
        "def find(u):\n",
        "  if u != p[u]:\n",
        "    p[u] = find(p[u])\n",
        "  return p[u]\n",
        "\n",
        "\n",
        "def union(u,v):\n",
        "  root1 = find(u)\n",
        "  root2 = find(v)\n",
        "  p[root2] = root1\n",
        "\n",
        "tree_edges = 0\n",
        "mst_cost = 0\n",
        "\n",
        "while True:\n",
        "  if tree_edges == N-1:\n",
        "    break\n",
        "  \n",
        "  u, v, wt = dq.popleft()\n",
        "\n",
        "  if find(u) != find(v):\n",
        "    union(u,v)\n",
        "    \n",
        "    mst.append((u,v))\n",
        "    tree_edges += 1\n",
        "    mst_cost +=wt\n",
        "\n",
        "print(mst)\n",
        "print(mst_cost)"
      ],
      "metadata": {
        "colab": {
          "base_uri": "https://localhost:8080/"
        },
        "id": "Jn6EQWV8AEwF",
        "outputId": "2dc29dcb-a503-4f4f-880e-df5d708cc553"
      },
      "execution_count": 2,
      "outputs": [
        {
          "output_type": "stream",
          "name": "stdout",
          "text": [
            "[(4, 6), (2, 5), (1, 6), (3, 5), (5, 6), (0, 1)]\n",
            "25\n"
          ]
        }
      ]
    },
    {
      "cell_type": "markdown",
      "source": [
        "# Prim 알고리즘"
      ],
      "metadata": {
        "id": "2fvjt0CLP4kY"
      }
    },
    {
      "cell_type": "code",
      "source": [
        "import sys\n",
        "\n",
        "N = 7\n",
        "s = 0\n",
        "g = [None] * N\n",
        "g[0] = [(1, 9), (2, 10)]\n",
        "g[1] = [(0, 9), (3, 10), (4, 5), (6, 3)]\n",
        "g[2] = [(0, 10), (3, 9), (4, 7), (5, 2)]\n",
        "g[3] = [(1, 10), (2, 9), (5, 4), (6, 8)]\n",
        "g[4] = [(1, 5), (2, 7), (6, 1)]\n",
        "g[5] = [(2, 2), (3, 4), (6, 6)]\n",
        "g[6] = [(1, 3), (3, 8), (4, 1), (5, 6)]\n",
        "\n",
        "visited = [False] * N\n",
        "D = [sys.maxsize] * N\n",
        "D[s] = 0\n",
        "previous = [None] * N\n",
        "previous[s] = s\n",
        "\n",
        "\n",
        "for k in range(N):\n",
        "  m = -1\n",
        "  min_value = sys.maxsize\n",
        "  for j in range(N):\n",
        "    if not visited[j] and D[j] < min_value:\n",
        "      min_value = D[j]\n",
        "      m = j\n",
        "  visited[m] = True\n",
        "\n",
        "  for w, wt in list(g[m]):\n",
        "    if not visited[w]:\n",
        "      if wt < D[w]:\n",
        "        D[w] = wt\n",
        "        previous[w] = m\n",
        "\n",
        "mst_cost = 0\n",
        "for i in range(1,N):\n",
        "  print('(%d, %d)'% (i,previous[i]), end='')\n",
        "  mst_cost += D[i]\n",
        "print('\\n',mst_cost)"
      ],
      "metadata": {
        "colab": {
          "base_uri": "https://localhost:8080/"
        },
        "id": "w2H_fjkZP4Sp",
        "outputId": "f408fcf6-e732-448b-f169-5cb14514281f"
      },
      "execution_count": 6,
      "outputs": [
        {
          "output_type": "stream",
          "name": "stdout",
          "text": [
            "(1, 0)(2, 5)(3, 5)(4, 6)(5, 6)(6, 1)\n",
            " 25\n"
          ]
        }
      ]
    },
    {
      "cell_type": "markdown",
      "source": [
        "# Sollin 알고리즘"
      ],
      "metadata": {
        "id": "yn9MvFKwVq35"
      }
    },
    {
      "cell_type": "code",
      "source": [
        "N = 8\n",
        "\n",
        "g[0] = [(1, 9), (2, 2)]\n",
        "g[1] = [(0, 9), (4, 5), (6, 4), (7, 3)]\n",
        "g[2] = [(0, 2), (3, 5)]\n",
        "g[3] = [(2, 5), (4, 7), (5, 2), (7, 10)]\n",
        "g[4] = [(1, 5), (3, 7), (6, 1)]\n",
        "g[5] = [(3, 2), (6, 6), (7, 4)]\n",
        "g[6] = [(1, 4), (4, 1), (5, 6), (7, 8)]\n",
        "g[7] = [(1, 3), (3, 10), (5, 4), (6, 8)]"
      ],
      "metadata": {
        "id": "0I3EMu31W_uZ"
      },
      "execution_count": null,
      "outputs": []
    },
    {
      "cell_type": "markdown",
      "source": [
        "# Dijkstra 알고리즘"
      ],
      "metadata": {
        "id": "kISKx3T-bBd7"
      }
    },
    {
      "cell_type": "code",
      "source": [
        "import sys\n",
        "\n",
        "N = 8\n",
        "s = 0\n",
        "g = [None] * N\n",
        "\n",
        "g[0] = [(1, 1), (3, 2)]\n",
        "g[1] = [(0, 1), (2, 4), (3, 3), (4, 1), (5, 6)]\n",
        "g[2] = [(1, 4), (5, 1), (6, 1), (7, 2)]\n",
        "g[3] = [(0, 2), (1, 3), (4, 5)]\n",
        "g[4] = [(1, 1), (3, 5), (6, 2)]\n",
        "g[5] = [(1, 6), (2, 1), (7, 9)]\n",
        "g[6] = [(2, 1), (4, 2), (7, 1)]\n",
        "g[7] = [(2, 2), (5, 9), (6, 1)]\n",
        "\n",
        "visited = [False] * N\n",
        "D = [sys.maxsize] * N\n",
        "D[s] = 0\n",
        "\n",
        "previous = [None] * N\n",
        "previous[s] = s\n",
        "\n",
        "for k in range(N):\n",
        "  m = -1\n",
        "  min_value = sys.maxsize\n",
        "  for j in range(N):\n",
        "    if not visited[j] and D[j] < min_value:\n",
        "      min_value = D[j]\n",
        "      m = j\n",
        "  visited[m] = True\n",
        "\n",
        "  for w, wt in list(g[m]):\n",
        "    if not visited[w]:\n",
        "      if D[m]+wt < D[w]:\n",
        "        D[w] = D[m] + wt\n",
        "        previous[w] = m\n",
        "\n",
        "for i in range(N):\n",
        "  if D[i] == sys.maxsize:\n",
        "    print('경로 없음')\n",
        "  else:\n",
        "    print('[%d, %d]'%(s, i), '=', D[i])\n",
        "\n",
        "for i in range(N):\n",
        "  back = i\n",
        "  print(back, end = '')\n",
        "  while back != s:\n",
        "    print(' <-', previous[back], end='')\n",
        "    back = previous[back]\n",
        "  print()\n",
        "\n"
      ],
      "metadata": {
        "colab": {
          "base_uri": "https://localhost:8080/"
        },
        "id": "ruXTu8u4bDXp",
        "outputId": "d2455c9f-8d96-40e3-f130-12002535e6db"
      },
      "execution_count": 8,
      "outputs": [
        {
          "output_type": "stream",
          "name": "stdout",
          "text": [
            "[0, 0] = 0\n",
            "[0, 1] = 1\n",
            "[0, 2] = 5\n",
            "[0, 3] = 2\n",
            "[0, 4] = 2\n",
            "[0, 5] = 6\n",
            "[0, 6] = 4\n",
            "[0, 7] = 5\n",
            "0\n",
            "1 <- 0\n",
            "2 <- 1 <- 0\n",
            "3 <- 0\n",
            "4 <- 1 <- 0\n",
            "5 <- 2 <- 1 <- 0\n",
            "6 <- 4 <- 1 <- 0\n",
            "7 <- 6 <- 4 <- 1 <- 0\n"
          ]
        }
      ]
    },
    {
      "cell_type": "markdown",
      "source": [
        "# Floyd-Warshall 알고리즘"
      ],
      "metadata": {
        "id": "I0yJMo_KFo8b"
      }
    },
    {
      "cell_type": "code",
      "source": [
        "import sys\n",
        "\n",
        "N = 5\n",
        "INF = sys.maxsize\n",
        "D = [[0, 4, 2, 5, INF], [INF, 0, 1, INF, 4],\n",
        "     [1, 3, 0, 1, 2], [-2, INF, INF, 0, 2],\n",
        "     [INF, -3, 3, 1, 0]]\n",
        "\n",
        "for k in range(N):\n",
        "  for i in range(N):\n",
        "    for j in range(N):\n",
        "      D[i][j] = min(D[i][j], D[i][k] + D[k][j])\n",
        "\n",
        "for i in range(N):\n",
        "  for j in range(N):\n",
        "    print('%3d'%D[i][j], end='')\n",
        "  print()"
      ],
      "metadata": {
        "colab": {
          "base_uri": "https://localhost:8080/"
        },
        "id": "fd51cq3nH5vc",
        "outputId": "d0bbd045-7119-4d81-edc3-af592e147ce3"
      },
      "execution_count": 9,
      "outputs": [
        {
          "output_type": "stream",
          "name": "stdout",
          "text": [
            "  0  1  2  3  4\n",
            "  0  0  1  2  3\n",
            " -1 -1  0  1  2\n",
            " -2 -1  0  0  2\n",
            " -3 -3 -2 -1  0\n"
          ]
        }
      ]
    }
  ]
}