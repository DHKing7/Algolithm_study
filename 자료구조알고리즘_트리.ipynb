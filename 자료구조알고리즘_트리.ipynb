{
  "nbformat": 4,
  "nbformat_minor": 0,
  "metadata": {
    "colab": {
      "provenance": [],
      "collapsed_sections": [
        "yg9qI264LRdh"
      ],
      "authorship_tag": "ABX9TyMxLf3mr6eXwgvXaxhsAnta",
      "include_colab_link": true
    },
    "kernelspec": {
      "name": "python3",
      "display_name": "Python 3"
    },
    "language_info": {
      "name": "python"
    }
  },
  "cells": [
    {
      "cell_type": "markdown",
      "metadata": {
        "id": "view-in-github",
        "colab_type": "text"
      },
      "source": [
        "<a href=\"https://colab.research.google.com/github/DHKing7/Algolithm_study/blob/main/%EC%9E%90%EB%A3%8C%EA%B5%AC%EC%A1%B0%EC%95%8C%EA%B3%A0%EB%A6%AC%EC%A6%98_%ED%8A%B8%EB%A6%AC.ipynb\" target=\"_parent\"><img src=\"https://colab.research.google.com/assets/colab-badge.svg\" alt=\"Open In Colab\"/></a>"
      ]
    },
    {
      "cell_type": "markdown",
      "source": [
        "# Binary Tree"
      ],
      "metadata": {
        "id": "yg9qI264LRdh"
      }
    },
    {
      "cell_type": "code",
      "execution_count": null,
      "metadata": {
        "id": "_xpdDdvhLM_5"
      },
      "outputs": [],
      "source": [
        "from collections import deque\n",
        "\n",
        "class Node:\n",
        "  def __init__(self, item, left=None, right=None):\n",
        "    self.item = item\n",
        "    self.left = left\n",
        "    self.right = right\n",
        "\n",
        "\n",
        "class Binary_Tree:\n",
        "  def __init__(self):\n",
        "    self.root = None\n",
        "  \n",
        "  def preorder(self, n):\n",
        "    if n != None:\n",
        "      print(n.item,' ', end='')\n",
        "      if n.left:\n",
        "        self.preorder(n.left)\n",
        "      if n.right:\n",
        "        self.preorder(n.right)\n",
        "\n",
        "\n",
        "  def inorder(self, n):\n",
        "    if n != None:\n",
        "      if n.left:\n",
        "        self.inorder(n.left)\n",
        "      print(n.item, ' ', end='')\n",
        "      if n.right:\n",
        "        self.inorder(n.right)\n",
        "\n",
        "\n",
        "  def postorder(self, n):\n",
        "    if n != None:\n",
        "      if n.left:\n",
        "        self.postorder(n.left)\n",
        "      if n.right:\n",
        "        self.postorder(n.right)\n",
        "      print(n.item, ' ', end='')\n",
        "\n",
        "\n",
        "\n",
        "  def levelorder(self, root):\n",
        "    dq = deque()\n",
        "    dq.append(root)\n",
        "    while len(dq) > 0:\n",
        "      n = dq.popleft()\n",
        "      print(n.item, ' ', end = ' ')\n",
        "      if n.left:\n",
        "        dq.append(n.left)\n",
        "      if n.right:\n",
        "        dq.append(n.right)\n",
        "    \n",
        "\n",
        "  def height(self, root):\n",
        "    if root == None:\n",
        "      return 0\n",
        "    return max(self.height(root.left), self.height(root.right)) + 1 "
      ]
    },
    {
      "cell_type": "code",
      "source": [
        "t = Binary_Tree()\n",
        "\n",
        "n1 = Node(100)\n",
        "n2 = Node(200)\n",
        "n3 = Node(300)\n",
        "n4 = Node(400)\n",
        "n5 = Node(500)\n",
        "n6 = Node(600)\n",
        "n7 = Node(700)\n",
        "n8 = Node(800)\n",
        "\n",
        "n1.left = n2\n",
        "n1.right = n3\n",
        "n2.left = n4\n",
        "n2.right = n5\n",
        "n3.left = n6\n",
        "n3.right = n7\n",
        "n4.left = n8\n",
        "\n",
        "t.root = n1\n",
        "\n",
        "print(t.height(t.root))\n",
        "t.preorder(t.root)\n",
        "print()\n",
        "t.inorder(t.root)\n",
        "print()\n",
        "t.postorder(t.root)\n",
        "print()\n",
        "t.levelorder(t.root)"
      ],
      "metadata": {
        "colab": {
          "base_uri": "https://localhost:8080/"
        },
        "id": "ZejhGJv7H1J6",
        "outputId": "4037e810-0d81-4273-9e83-3b5a06df3bab"
      },
      "execution_count": null,
      "outputs": [
        {
          "output_type": "stream",
          "name": "stdout",
          "text": [
            "4\n",
            "100  200  400  800  500  300  600  700  \n",
            "800  400  200  500  100  600  300  700  \n",
            "800  400  500  200  600  700  300  100  \n",
            "100   200   300   400   500   600   700   800   "
          ]
        }
      ]
    },
    {
      "cell_type": "markdown",
      "source": [
        "# Binary_heap"
      ],
      "metadata": {
        "id": "bagUhlzmJYDh"
      }
    },
    {
      "cell_type": "code",
      "source": [
        "class Bheap:\n",
        "  def __init__(self, a):\n",
        "    self.a = a\n",
        "    self.N = len(a) - 1\n",
        "  \n",
        "  def create_heap(self):\n",
        "    for i in range(self.N//2,0,-1):\n",
        "      self.downheap(i)\n",
        "\n",
        "  def insert(self, key_value):\n",
        "    self.N += 1\n",
        "    self.a.append(key_value)\n",
        "    self.upheap(self.N)\n",
        "\n",
        "  def delete_min(self):\n",
        "    if self.N == 0:\n",
        "      print(\"empty\")\n",
        "      return None\n",
        "    minimum = self.a[1]\n",
        "    self.a[1], self.a[-1] = self.a[-1], self.a[1]\n",
        "    del self.a[-1]\n",
        "    self.downheap(1)\n",
        "    self.N -= 1\n",
        "    return minimum\n",
        "\n",
        "  def downheap(self, i):\n",
        "    while 2*i <= self.N:\n",
        "      k = 2*i\n",
        "      if k < self.N and self.a[k][0] > self.a[k+1][0]:\n",
        "        k += 1\n",
        "      if self.a[i][0] < self.a[k][0]:\n",
        "        break\n",
        "      self.a[i], self.a[k] = self.a[k], self.a[i]\n",
        "      i = k\n",
        "  \n",
        "  def upheap(self, j):\n",
        "    while j > 1 and self.a[j//2][0] > self.a[j][0]:\n",
        "      self.a[j], self.a[j//2] = self.a[j//2], self.a[j]\n",
        "      j = j//2 \n",
        "  \n",
        "\n",
        "  def print_heap(self):\n",
        "    for i in range(1, self.N+1):\n",
        "      print('[%2d' %self.a[i][0], self.a[i][1], ']', end='')\n",
        "    print('힙 크기 :', self.N)"
      ],
      "metadata": {
        "id": "DF_XgoqvJXw4"
      },
      "execution_count": null,
      "outputs": []
    },
    {
      "cell_type": "code",
      "source": [
        "a = [None] * 1\n",
        "a.append([90, 'watermelon'])\n",
        "a.append([80, 'pear'])\n",
        "a.append([70, 'melon'])\n",
        "a.append([50, 'lime'])\n",
        "a.append([60, 'mango'])\n",
        "a.append([20, 'grape'])\n",
        "a.append([30, 'orange'])\n",
        "a.append([35, 'apricot'])\n",
        "a.append([10, 'banana'])\n",
        "a.append([15, 'lemon'])\n",
        "a.append([45, 'cherry'])\n",
        "a.append([40, 'kiwi'])\n",
        "\n",
        "hq = Bheap(a)\n",
        "\n",
        "hq.create_heap()\n",
        "hq.print_heap()\n",
        "print(hq.delete_min())\n",
        "hq.print_heap()\n",
        "hq.insert([5, 'apple'])\n",
        "hq.print_heap()"
      ],
      "metadata": {
        "colab": {
          "base_uri": "https://localhost:8080/"
        },
        "id": "da46o2uXTVUe",
        "outputId": "e1dbac70-2e30-44e9-a3d8-7e1d313e629a"
      },
      "execution_count": null,
      "outputs": [
        {
          "output_type": "stream",
          "name": "stdout",
          "text": [
            "[10 banana ][15 lemon ][20 grape ][35 apricot ][45 cherry ][40 kiwi ][30 orange ][80 pear ][50 lime ][60 mango ][90 watermelon ][70 melon ]힙 크기 : 12\n",
            "[10, 'banana']\n",
            "[15 lemon ][35 apricot ][20 grape ][50 lime ][45 cherry ][40 kiwi ][30 orange ][80 pear ][70 melon ][60 mango ][90 watermelon ]힙 크기 : 11\n",
            "[ 5 apple ][35 apricot ][15 lemon ][50 lime ][45 cherry ][20 grape ][30 orange ][80 pear ][70 melon ][60 mango ][90 watermelon ][40 kiwi ]힙 크기 : 12\n"
          ]
        }
      ]
    }
  ]
}